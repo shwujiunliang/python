{
 "nbformat": 4,
 "nbformat_minor": 2,
 "metadata": {
  "language_info": {
   "name": "python",
   "codemirror_mode": {
    "name": "ipython",
    "version": 3
   },
   "version": "3.7.4-final"
  },
  "orig_nbformat": 2,
  "file_extension": ".py",
  "mimetype": "text/x-python",
  "name": "python",
  "npconvert_exporter": "python",
  "pygments_lexer": "ipython3",
  "version": 3,
  "kernelspec": {
   "name": "python37464bitbasecondae6a6507ccaae4fddb4a88692e7b2354b",
   "display_name": "Python 3.7.4 64-bit ('base': conda)"
  }
 },
 "cells": [
  {
   "cell_type": "code",
   "execution_count": 1,
   "metadata": {},
   "outputs": [],
   "source": [
    "%matplotlib inline\n",
    "\n",
    "import numpy as np\n",
    "import matplotlib.pyplot as plt\n",
    "import pandas as pd"
   ]
  },
  {
   "cell_type": "code",
   "execution_count": 3,
   "metadata": {},
   "outputs": [
    {
     "data": {
      "text/html": "<div>\n<style scoped>\n    .dataframe tbody tr th:only-of-type {\n        vertical-align: middle;\n    }\n\n    .dataframe tbody tr th {\n        vertical-align: top;\n    }\n\n    .dataframe thead th {\n        text-align: right;\n    }\n</style>\n<table border=\"1\" class=\"dataframe\">\n  <thead>\n    <tr style=\"text-align: right;\">\n      <th></th>\n      <th>A</th>\n      <th>B</th>\n      <th>C</th>\n    </tr>\n  </thead>\n  <tbody>\n    <tr>\n      <td>1</td>\n      <td>1.625514</td>\n      <td>-0.030228</td>\n      <td>-0.624082</td>\n    </tr>\n    <tr>\n      <td>2</td>\n      <td>-0.512140</td>\n      <td>1.025319</td>\n      <td>-0.825581</td>\n    </tr>\n    <tr>\n      <td>3</td>\n      <td>0.889169</td>\n      <td>0.161269</td>\n      <td>2.012620</td>\n    </tr>\n    <tr>\n      <td>4</td>\n      <td>-1.208521</td>\n      <td>0.459529</td>\n      <td>-0.105735</td>\n    </tr>\n    <tr>\n      <td>5</td>\n      <td>-0.601372</td>\n      <td>0.482498</td>\n      <td>-0.291394</td>\n    </tr>\n  </tbody>\n</table>\n</div>",
      "text/plain": "          A         B         C\n1  1.625514 -0.030228 -0.624082\n2 -0.512140  1.025319 -0.825581\n3  0.889169  0.161269  2.012620\n4 -1.208521  0.459529 -0.105735\n5 -0.601372  0.482498 -0.291394"
     },
     "execution_count": 3,
     "metadata": {},
     "output_type": "execute_result"
    }
   ],
   "source": [
    "df = pd.DataFrame(np.random.randn(5,3),index=list(range(1,6)),columns=list(\"ABC\"))\n",
    "df"
   ]
  },
  {
   "cell_type": "code",
   "execution_count": 4,
   "metadata": {},
   "outputs": [
    {
     "data": {
      "text/html": "<div>\n<style scoped>\n    .dataframe tbody tr th:only-of-type {\n        vertical-align: middle;\n    }\n\n    .dataframe tbody tr th {\n        vertical-align: top;\n    }\n\n    .dataframe thead th {\n        text-align: right;\n    }\n</style>\n<table border=\"1\" class=\"dataframe\">\n  <thead>\n    <tr style=\"text-align: right;\">\n      <th></th>\n      <th>A</th>\n      <th>B</th>\n      <th>C</th>\n    </tr>\n  </thead>\n  <tbody>\n    <tr>\n      <td>2</td>\n      <td>-0.512140</td>\n      <td>1.025319</td>\n      <td>-0.825581</td>\n    </tr>\n    <tr>\n      <td>3</td>\n      <td>0.889169</td>\n      <td>0.161269</td>\n      <td>2.012620</td>\n    </tr>\n    <tr>\n      <td>4</td>\n      <td>-1.208521</td>\n      <td>0.459529</td>\n      <td>-0.105735</td>\n    </tr>\n    <tr>\n      <td>5</td>\n      <td>-0.601372</td>\n      <td>0.482498</td>\n      <td>-0.291394</td>\n    </tr>\n  </tbody>\n</table>\n</div>",
      "text/plain": "          A         B         C\n2 -0.512140  1.025319 -0.825581\n3  0.889169  0.161269  2.012620\n4 -1.208521  0.459529 -0.105735\n5 -0.601372  0.482498 -0.291394"
     },
     "execution_count": 4,
     "metadata": {},
     "output_type": "execute_result"
    }
   ],
   "source": [
    "df[df.B>0]"
   ]
  },
  {
   "cell_type": "code",
   "execution_count": 6,
   "metadata": {},
   "outputs": [
    {
     "data": {
      "text/html": "<div>\n<style scoped>\n    .dataframe tbody tr th:only-of-type {\n        vertical-align: middle;\n    }\n\n    .dataframe tbody tr th {\n        vertical-align: top;\n    }\n\n    .dataframe thead th {\n        text-align: right;\n    }\n</style>\n<table border=\"1\" class=\"dataframe\">\n  <thead>\n    <tr style=\"text-align: right;\">\n      <th></th>\n      <th>A</th>\n      <th>B</th>\n      <th>C</th>\n    </tr>\n  </thead>\n  <tbody>\n    <tr>\n      <td>1</td>\n      <td>1.625514</td>\n      <td>-0.030228</td>\n      <td>-0.624082</td>\n    </tr>\n    <tr>\n      <td>2</td>\n      <td>-0.512140</td>\n      <td>1.025319</td>\n      <td>0.000000</td>\n    </tr>\n    <tr>\n      <td>3</td>\n      <td>0.889169</td>\n      <td>0.161269</td>\n      <td>0.000000</td>\n    </tr>\n    <tr>\n      <td>4</td>\n      <td>-1.208521</td>\n      <td>0.459529</td>\n      <td>0.000000</td>\n    </tr>\n    <tr>\n      <td>5</td>\n      <td>-0.601372</td>\n      <td>0.482498</td>\n      <td>0.000000</td>\n    </tr>\n  </tbody>\n</table>\n</div>",
      "text/plain": "          A         B         C\n1  1.625514 -0.030228 -0.624082\n2 -0.512140  1.025319  0.000000\n3  0.889169  0.161269  0.000000\n4 -1.208521  0.459529  0.000000\n5 -0.601372  0.482498  0.000000"
     },
     "execution_count": 6,
     "metadata": {},
     "output_type": "execute_result"
    }
   ],
   "source": [
    "df.loc[df.B>0,\"C\"]=0\n",
    "df"
   ]
  },
  {
   "cell_type": "code",
   "execution_count": null,
   "metadata": {},
   "outputs": [],
   "source": []
  }
 ]
}