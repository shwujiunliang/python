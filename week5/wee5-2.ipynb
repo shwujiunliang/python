{
 "nbformat": 4,
 "nbformat_minor": 2,
 "metadata": {
  "language_info": {
   "name": "python",
   "codemirror_mode": {
    "name": "ipython",
    "version": 3
   },
   "version": "3.7.4-final"
  },
  "orig_nbformat": 2,
  "file_extension": ".py",
  "mimetype": "text/x-python",
  "name": "python",
  "npconvert_exporter": "python",
  "pygments_lexer": "ipython3",
  "version": 3,
  "kernelspec": {
   "name": "python37464bitbasecondae6a6507ccaae4fddb4a88692e7b2354b",
   "display_name": "Python 3.7.4 64-bit ('base': conda)"
  }
 },
 "cells": [
  {
   "cell_type": "code",
   "execution_count": 7,
   "metadata": {},
   "outputs": [],
   "source": [
    "%matplotlib inline\n",
    "\n",
    "import numpy as np\n",
    "import matplotlib.pyplot as plt\n",
    "import pandas as pd "
   ]
  },
  {
   "cell_type": "code",
   "execution_count": 8,
   "metadata": {},
   "outputs": [],
   "source": [
    "mydata = np.random.randn(4,3)"
   ]
  },
  {
   "cell_type": "code",
   "execution_count": 9,
   "metadata": {},
   "outputs": [
    {
     "data": {
      "text/plain": "array([[-0.22513212, -0.98412927,  0.15905121],\n       [ 1.01402578, -0.18433014,  0.14571262],\n       [ 0.67780326,  1.3623387 , -1.19360321],\n       [-0.76551728, -0.0169249 , -0.15963148]])"
     },
     "execution_count": 9,
     "metadata": {},
     "output_type": "execute_result"
    }
   ],
   "source": [
    "mydata"
   ]
  },
  {
   "cell_type": "code",
   "execution_count": 10,
   "metadata": {},
   "outputs": [
    {
     "data": {
      "text/html": "<div>\n<style scoped>\n    .dataframe tbody tr th:only-of-type {\n        vertical-align: middle;\n    }\n\n    .dataframe tbody tr th {\n        vertical-align: top;\n    }\n\n    .dataframe thead th {\n        text-align: right;\n    }\n</style>\n<table border=\"1\" class=\"dataframe\">\n  <thead>\n    <tr style=\"text-align: right;\">\n      <th></th>\n      <th>A</th>\n      <th>B</th>\n      <th>C</th>\n    </tr>\n  </thead>\n  <tbody>\n    <tr>\n      <td>0</td>\n      <td>-0.225132</td>\n      <td>-0.984129</td>\n      <td>0.159051</td>\n    </tr>\n    <tr>\n      <td>1</td>\n      <td>1.014026</td>\n      <td>-0.184330</td>\n      <td>0.145713</td>\n    </tr>\n    <tr>\n      <td>2</td>\n      <td>0.677803</td>\n      <td>1.362339</td>\n      <td>-1.193603</td>\n    </tr>\n    <tr>\n      <td>3</td>\n      <td>-0.765517</td>\n      <td>-0.016925</td>\n      <td>-0.159631</td>\n    </tr>\n  </tbody>\n</table>\n</div>",
      "text/plain": "          A         B         C\n0 -0.225132 -0.984129  0.159051\n1  1.014026 -0.184330  0.145713\n2  0.677803  1.362339 -1.193603\n3 -0.765517 -0.016925 -0.159631"
     },
     "execution_count": 10,
     "metadata": {},
     "output_type": "execute_result"
    }
   ],
   "source": [
    "#組成col\n",
    "df1 = pd.DataFrame(mydata,columns=list(\"ABC\"))\n",
    "df1"
   ]
  },
  {
   "cell_type": "code",
   "execution_count": 11,
   "metadata": {},
   "outputs": [
    {
     "data": {
      "text/html": "<div>\n<style scoped>\n    .dataframe tbody tr th:only-of-type {\n        vertical-align: middle;\n    }\n\n    .dataframe tbody tr th {\n        vertical-align: top;\n    }\n\n    .dataframe thead th {\n        text-align: right;\n    }\n</style>\n<table border=\"1\" class=\"dataframe\">\n  <thead>\n    <tr style=\"text-align: right;\">\n      <th></th>\n      <th>A</th>\n      <th>B</th>\n      <th>C</th>\n    </tr>\n  </thead>\n  <tbody>\n    <tr>\n      <td>0</td>\n      <td>-0.000277</td>\n      <td>0.486861</td>\n      <td>0.701466</td>\n    </tr>\n    <tr>\n      <td>1</td>\n      <td>-0.056113</td>\n      <td>0.307656</td>\n      <td>-1.540128</td>\n    </tr>\n    <tr>\n      <td>2</td>\n      <td>1.269414</td>\n      <td>-1.455252</td>\n      <td>-0.966926</td>\n    </tr>\n  </tbody>\n</table>\n</div>",
      "text/plain": "          A         B         C\n0 -0.000277  0.486861  0.701466\n1 -0.056113  0.307656 -1.540128\n2  1.269414 -1.455252 -0.966926"
     },
     "execution_count": 11,
     "metadata": {},
     "output_type": "execute_result"
    }
   ],
   "source": [
    "df2 = pd.DataFrame(np.random.randn(3,3), columns=list(\"ABC\"))\n",
    "df2"
   ]
  },
  {
   "cell_type": "code",
   "execution_count": 13,
   "metadata": {},
   "outputs": [
    {
     "data": {
      "text/html": "<div>\n<style scoped>\n    .dataframe tbody tr th:only-of-type {\n        vertical-align: middle;\n    }\n\n    .dataframe tbody tr th {\n        vertical-align: top;\n    }\n\n    .dataframe thead th {\n        text-align: right;\n    }\n</style>\n<table border=\"1\" class=\"dataframe\">\n  <thead>\n    <tr style=\"text-align: right;\">\n      <th></th>\n      <th>A</th>\n      <th>B</th>\n      <th>C</th>\n    </tr>\n  </thead>\n  <tbody>\n    <tr>\n      <td>0</td>\n      <td>-0.225132</td>\n      <td>-0.984129</td>\n      <td>0.159051</td>\n    </tr>\n    <tr>\n      <td>1</td>\n      <td>1.014026</td>\n      <td>-0.184330</td>\n      <td>0.145713</td>\n    </tr>\n    <tr>\n      <td>2</td>\n      <td>0.677803</td>\n      <td>1.362339</td>\n      <td>-1.193603</td>\n    </tr>\n    <tr>\n      <td>3</td>\n      <td>-0.765517</td>\n      <td>-0.016925</td>\n      <td>-0.159631</td>\n    </tr>\n    <tr>\n      <td>0</td>\n      <td>-0.000277</td>\n      <td>0.486861</td>\n      <td>0.701466</td>\n    </tr>\n    <tr>\n      <td>1</td>\n      <td>-0.056113</td>\n      <td>0.307656</td>\n      <td>-1.540128</td>\n    </tr>\n    <tr>\n      <td>2</td>\n      <td>1.269414</td>\n      <td>-1.455252</td>\n      <td>-0.966926</td>\n    </tr>\n  </tbody>\n</table>\n</div>",
      "text/plain": "          A         B         C\n0 -0.225132 -0.984129  0.159051\n1  1.014026 -0.184330  0.145713\n2  0.677803  1.362339 -1.193603\n3 -0.765517 -0.016925 -0.159631\n0 -0.000277  0.486861  0.701466\n1 -0.056113  0.307656 -1.540128\n2  1.269414 -1.455252 -0.966926"
     },
     "execution_count": 13,
     "metadata": {},
     "output_type": "execute_result"
    }
   ],
   "source": [
    "#合併\n",
    "df3 = pd.concat([df1, df2], axis=0)\n",
    "df3"
   ]
  },
  {
   "cell_type": "code",
   "execution_count": 16,
   "metadata": {},
   "outputs": [
    {
     "data": {
      "text/html": "<div>\n<style scoped>\n    .dataframe tbody tr th:only-of-type {\n        vertical-align: middle;\n    }\n\n    .dataframe tbody tr th {\n        vertical-align: top;\n    }\n\n    .dataframe thead th {\n        text-align: right;\n    }\n</style>\n<table border=\"1\" class=\"dataframe\">\n  <thead>\n    <tr style=\"text-align: right;\">\n      <th></th>\n      <th>A</th>\n      <th>B</th>\n      <th>C</th>\n    </tr>\n  </thead>\n  <tbody>\n    <tr>\n      <td>0</td>\n      <td>-0.225132</td>\n      <td>-0.984129</td>\n      <td>0.159051</td>\n    </tr>\n    <tr>\n      <td>1</td>\n      <td>1.014026</td>\n      <td>-0.184330</td>\n      <td>0.145713</td>\n    </tr>\n    <tr>\n      <td>2</td>\n      <td>0.677803</td>\n      <td>1.362339</td>\n      <td>-1.193603</td>\n    </tr>\n    <tr>\n      <td>3</td>\n      <td>-0.765517</td>\n      <td>-0.016925</td>\n      <td>-0.159631</td>\n    </tr>\n    <tr>\n      <td>4</td>\n      <td>-0.000277</td>\n      <td>0.486861</td>\n      <td>0.701466</td>\n    </tr>\n    <tr>\n      <td>5</td>\n      <td>-0.056113</td>\n      <td>0.307656</td>\n      <td>-1.540128</td>\n    </tr>\n    <tr>\n      <td>6</td>\n      <td>1.269414</td>\n      <td>-1.455252</td>\n      <td>-0.966926</td>\n    </tr>\n  </tbody>\n</table>\n</div>",
      "text/plain": "          A         B         C\n0 -0.225132 -0.984129  0.159051\n1  1.014026 -0.184330  0.145713\n2  0.677803  1.362339 -1.193603\n3 -0.765517 -0.016925 -0.159631\n4 -0.000277  0.486861  0.701466\n5 -0.056113  0.307656 -1.540128\n6  1.269414 -1.455252 -0.966926"
     },
     "execution_count": 16,
     "metadata": {},
     "output_type": "execute_result"
    }
   ],
   "source": [
    "df3.index = range(7)\n",
    "df3"
   ]
  },
  {
   "cell_type": "code",
   "execution_count": 18,
   "metadata": {},
   "outputs": [
    {
     "data": {
      "text/html": "<div>\n<style scoped>\n    .dataframe tbody tr th:only-of-type {\n        vertical-align: middle;\n    }\n\n    .dataframe tbody tr th {\n        vertical-align: top;\n    }\n\n    .dataframe thead th {\n        text-align: right;\n    }\n</style>\n<table border=\"1\" class=\"dataframe\">\n  <thead>\n    <tr style=\"text-align: right;\">\n      <th></th>\n      <th>A</th>\n      <th>B</th>\n      <th>C</th>\n      <th>A</th>\n      <th>B</th>\n      <th>C</th>\n    </tr>\n  </thead>\n  <tbody>\n    <tr>\n      <td>0</td>\n      <td>-0.225132</td>\n      <td>-0.984129</td>\n      <td>0.159051</td>\n      <td>-0.000277</td>\n      <td>0.486861</td>\n      <td>0.701466</td>\n    </tr>\n    <tr>\n      <td>1</td>\n      <td>1.014026</td>\n      <td>-0.184330</td>\n      <td>0.145713</td>\n      <td>-0.056113</td>\n      <td>0.307656</td>\n      <td>-1.540128</td>\n    </tr>\n    <tr>\n      <td>2</td>\n      <td>0.677803</td>\n      <td>1.362339</td>\n      <td>-1.193603</td>\n      <td>1.269414</td>\n      <td>-1.455252</td>\n      <td>-0.966926</td>\n    </tr>\n    <tr>\n      <td>3</td>\n      <td>-0.765517</td>\n      <td>-0.016925</td>\n      <td>-0.159631</td>\n      <td>NaN</td>\n      <td>NaN</td>\n      <td>NaN</td>\n    </tr>\n  </tbody>\n</table>\n</div>",
      "text/plain": "          A         B         C         A         B         C\n0 -0.225132 -0.984129  0.159051 -0.000277  0.486861  0.701466\n1  1.014026 -0.184330  0.145713 -0.056113  0.307656 -1.540128\n2  0.677803  1.362339 -1.193603  1.269414 -1.455252 -0.966926\n3 -0.765517 -0.016925 -0.159631       NaN       NaN       NaN"
     },
     "execution_count": 18,
     "metadata": {},
     "output_type": "execute_result"
    }
   ],
   "source": [
    "df4 = pd.concat([df1, df2], axis=1)\n",
    "df4"
   ]
  },
  {
   "cell_type": "code",
   "execution_count": null,
   "metadata": {},
   "outputs": [],
   "source": []
  }
 ]
}